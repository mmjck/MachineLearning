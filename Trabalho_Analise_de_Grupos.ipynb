{
  "nbformat": 4,
  "nbformat_minor": 0,
  "metadata": {
    "colab": {
      "name": "Trabalho Analise de Grupos.ipynb",
      "provenance": [],
      "authorship_tag": "ABX9TyOxZzJF5JQVptHAW/Jnr3km",
      "include_colab_link": true
    },
    "kernelspec": {
      "name": "python3",
      "display_name": "Python 3"
    },
    "language_info": {
      "name": "python"
    }
  },
  "cells": [
    {
      "cell_type": "markdown",
      "metadata": {
        "id": "view-in-github",
        "colab_type": "text"
      },
      "source": [
        "<a href=\"https://colab.research.google.com/github/mmjck/MachineLearning/blob/master/Trabalho_Analise_de_Grupos.ipynb\" target=\"_parent\"><img src=\"https://colab.research.google.com/assets/colab-badge.svg\" alt=\"Open In Colab\"/></a>"
      ]
    },
    {
      "cell_type": "code",
      "metadata": {
        "id": "Z_Fl33ykGq8d"
      },
      "source": [
        "import pandas as pd\n",
        "import math\n",
        "import matplotlib.pyplot as plt\n",
        "import numpy as np\n",
        "import seaborn as sns\n",
        "import random\n",
        "from scipy.spatial import distance"
      ],
      "execution_count": 1,
      "outputs": []
    },
    {
      "cell_type": "code",
      "metadata": {
        "id": "rfPyuoQzGq-w"
      },
      "source": [
        "url = \"https://raw.githubusercontent.com/xbarretox/DM-AD/main/wine.csv\""
      ],
      "execution_count": 2,
      "outputs": []
    },
    {
      "cell_type": "code",
      "metadata": {
        "colab": {
          "base_uri": "https://localhost:8080/",
          "height": 204
        },
        "id": "4t3qKD2AGrAr",
        "outputId": "a3595f05-7d6f-49e9-f15d-40991c8b337c"
      },
      "source": [
        "nomesColunasRuspini = [\"class\", \"b\", \"c\",\"d\", \"e\",\"f\", \"g\",\"h\", \"i\",\"j\", \"k\",\"l\", \"m\",\"n\"]\n",
        "\n",
        "\n",
        "\n",
        "dfWine = pd.read_csv(url,  names = nomesColunasRuspini)\n",
        "dfWine.head()\n"
      ],
      "execution_count": 3,
      "outputs": [
        {
          "output_type": "execute_result",
          "data": {
            "text/html": [
              "<div>\n",
              "<style scoped>\n",
              "    .dataframe tbody tr th:only-of-type {\n",
              "        vertical-align: middle;\n",
              "    }\n",
              "\n",
              "    .dataframe tbody tr th {\n",
              "        vertical-align: top;\n",
              "    }\n",
              "\n",
              "    .dataframe thead th {\n",
              "        text-align: right;\n",
              "    }\n",
              "</style>\n",
              "<table border=\"1\" class=\"dataframe\">\n",
              "  <thead>\n",
              "    <tr style=\"text-align: right;\">\n",
              "      <th></th>\n",
              "      <th>class</th>\n",
              "      <th>b</th>\n",
              "      <th>c</th>\n",
              "      <th>d</th>\n",
              "      <th>e</th>\n",
              "      <th>f</th>\n",
              "      <th>g</th>\n",
              "      <th>h</th>\n",
              "      <th>i</th>\n",
              "      <th>j</th>\n",
              "      <th>k</th>\n",
              "      <th>l</th>\n",
              "      <th>m</th>\n",
              "      <th>n</th>\n",
              "    </tr>\n",
              "  </thead>\n",
              "  <tbody>\n",
              "    <tr>\n",
              "      <th>0</th>\n",
              "      <td>1</td>\n",
              "      <td>14.23</td>\n",
              "      <td>1.71</td>\n",
              "      <td>2.43</td>\n",
              "      <td>15.6</td>\n",
              "      <td>127</td>\n",
              "      <td>2.80</td>\n",
              "      <td>3.06</td>\n",
              "      <td>0.28</td>\n",
              "      <td>2.29</td>\n",
              "      <td>5.64</td>\n",
              "      <td>1.04</td>\n",
              "      <td>3.92</td>\n",
              "      <td>1065</td>\n",
              "    </tr>\n",
              "    <tr>\n",
              "      <th>1</th>\n",
              "      <td>1</td>\n",
              "      <td>13.20</td>\n",
              "      <td>1.78</td>\n",
              "      <td>2.14</td>\n",
              "      <td>11.2</td>\n",
              "      <td>100</td>\n",
              "      <td>2.65</td>\n",
              "      <td>2.76</td>\n",
              "      <td>0.26</td>\n",
              "      <td>1.28</td>\n",
              "      <td>4.38</td>\n",
              "      <td>1.05</td>\n",
              "      <td>3.40</td>\n",
              "      <td>1050</td>\n",
              "    </tr>\n",
              "    <tr>\n",
              "      <th>2</th>\n",
              "      <td>1</td>\n",
              "      <td>13.16</td>\n",
              "      <td>2.36</td>\n",
              "      <td>2.67</td>\n",
              "      <td>18.6</td>\n",
              "      <td>101</td>\n",
              "      <td>2.80</td>\n",
              "      <td>3.24</td>\n",
              "      <td>0.30</td>\n",
              "      <td>2.81</td>\n",
              "      <td>5.68</td>\n",
              "      <td>1.03</td>\n",
              "      <td>3.17</td>\n",
              "      <td>1185</td>\n",
              "    </tr>\n",
              "    <tr>\n",
              "      <th>3</th>\n",
              "      <td>1</td>\n",
              "      <td>14.37</td>\n",
              "      <td>1.95</td>\n",
              "      <td>2.50</td>\n",
              "      <td>16.8</td>\n",
              "      <td>113</td>\n",
              "      <td>3.85</td>\n",
              "      <td>3.49</td>\n",
              "      <td>0.24</td>\n",
              "      <td>2.18</td>\n",
              "      <td>7.80</td>\n",
              "      <td>0.86</td>\n",
              "      <td>3.45</td>\n",
              "      <td>1480</td>\n",
              "    </tr>\n",
              "    <tr>\n",
              "      <th>4</th>\n",
              "      <td>1</td>\n",
              "      <td>13.24</td>\n",
              "      <td>2.59</td>\n",
              "      <td>2.87</td>\n",
              "      <td>21.0</td>\n",
              "      <td>118</td>\n",
              "      <td>2.80</td>\n",
              "      <td>2.69</td>\n",
              "      <td>0.39</td>\n",
              "      <td>1.82</td>\n",
              "      <td>4.32</td>\n",
              "      <td>1.04</td>\n",
              "      <td>2.93</td>\n",
              "      <td>735</td>\n",
              "    </tr>\n",
              "  </tbody>\n",
              "</table>\n",
              "</div>"
            ],
            "text/plain": [
              "   class      b     c     d     e    f  ...     i     j     k     l     m     n\n",
              "0      1  14.23  1.71  2.43  15.6  127  ...  0.28  2.29  5.64  1.04  3.92  1065\n",
              "1      1  13.20  1.78  2.14  11.2  100  ...  0.26  1.28  4.38  1.05  3.40  1050\n",
              "2      1  13.16  2.36  2.67  18.6  101  ...  0.30  2.81  5.68  1.03  3.17  1185\n",
              "3      1  14.37  1.95  2.50  16.8  113  ...  0.24  2.18  7.80  0.86  3.45  1480\n",
              "4      1  13.24  2.59  2.87  21.0  118  ...  0.39  1.82  4.32  1.04  2.93   735\n",
              "\n",
              "[5 rows x 14 columns]"
            ]
          },
          "metadata": {},
          "execution_count": 3
        }
      ]
    },
    {
      "cell_type": "markdown",
      "metadata": {
        "id": "C14x6o07RUAN"
      },
      "source": [
        "# 1) O dataset Wine possui 14 colunas. A primeira coluna refere-se a classe dos vinhos.\n",
        "Gere um novo dataframe sem a primeira coluna. Em seguida, faça o préprocessamento dos dados de tal forma que todos os treze atributos estejam\n",
        "normalizados no intervalo [0,1]. Imprima as primeiras 10 linhas antes e depois da\n",
        "normalização;"
      ]
    },
    {
      "cell_type": "code",
      "metadata": {
        "id": "f__XWljuGrE4"
      },
      "source": [
        "df = dfWine.copy()"
      ],
      "execution_count": 4,
      "outputs": []
    },
    {
      "cell_type": "code",
      "metadata": {
        "colab": {
          "base_uri": "https://localhost:8080/",
          "height": 359
        },
        "id": "-Wxd61VFGrHX",
        "outputId": "ee940fee-dcbf-4f9a-a8c4-a349c207b72b"
      },
      "source": [
        "df = df.drop(columns=[\"class\"])\n",
        "df.head(10)\n"
      ],
      "execution_count": 5,
      "outputs": [
        {
          "output_type": "execute_result",
          "data": {
            "text/html": [
              "<div>\n",
              "<style scoped>\n",
              "    .dataframe tbody tr th:only-of-type {\n",
              "        vertical-align: middle;\n",
              "    }\n",
              "\n",
              "    .dataframe tbody tr th {\n",
              "        vertical-align: top;\n",
              "    }\n",
              "\n",
              "    .dataframe thead th {\n",
              "        text-align: right;\n",
              "    }\n",
              "</style>\n",
              "<table border=\"1\" class=\"dataframe\">\n",
              "  <thead>\n",
              "    <tr style=\"text-align: right;\">\n",
              "      <th></th>\n",
              "      <th>b</th>\n",
              "      <th>c</th>\n",
              "      <th>d</th>\n",
              "      <th>e</th>\n",
              "      <th>f</th>\n",
              "      <th>g</th>\n",
              "      <th>h</th>\n",
              "      <th>i</th>\n",
              "      <th>j</th>\n",
              "      <th>k</th>\n",
              "      <th>l</th>\n",
              "      <th>m</th>\n",
              "      <th>n</th>\n",
              "    </tr>\n",
              "  </thead>\n",
              "  <tbody>\n",
              "    <tr>\n",
              "      <th>0</th>\n",
              "      <td>14.23</td>\n",
              "      <td>1.71</td>\n",
              "      <td>2.43</td>\n",
              "      <td>15.6</td>\n",
              "      <td>127</td>\n",
              "      <td>2.80</td>\n",
              "      <td>3.06</td>\n",
              "      <td>0.28</td>\n",
              "      <td>2.29</td>\n",
              "      <td>5.64</td>\n",
              "      <td>1.04</td>\n",
              "      <td>3.92</td>\n",
              "      <td>1065</td>\n",
              "    </tr>\n",
              "    <tr>\n",
              "      <th>1</th>\n",
              "      <td>13.20</td>\n",
              "      <td>1.78</td>\n",
              "      <td>2.14</td>\n",
              "      <td>11.2</td>\n",
              "      <td>100</td>\n",
              "      <td>2.65</td>\n",
              "      <td>2.76</td>\n",
              "      <td>0.26</td>\n",
              "      <td>1.28</td>\n",
              "      <td>4.38</td>\n",
              "      <td>1.05</td>\n",
              "      <td>3.40</td>\n",
              "      <td>1050</td>\n",
              "    </tr>\n",
              "    <tr>\n",
              "      <th>2</th>\n",
              "      <td>13.16</td>\n",
              "      <td>2.36</td>\n",
              "      <td>2.67</td>\n",
              "      <td>18.6</td>\n",
              "      <td>101</td>\n",
              "      <td>2.80</td>\n",
              "      <td>3.24</td>\n",
              "      <td>0.30</td>\n",
              "      <td>2.81</td>\n",
              "      <td>5.68</td>\n",
              "      <td>1.03</td>\n",
              "      <td>3.17</td>\n",
              "      <td>1185</td>\n",
              "    </tr>\n",
              "    <tr>\n",
              "      <th>3</th>\n",
              "      <td>14.37</td>\n",
              "      <td>1.95</td>\n",
              "      <td>2.50</td>\n",
              "      <td>16.8</td>\n",
              "      <td>113</td>\n",
              "      <td>3.85</td>\n",
              "      <td>3.49</td>\n",
              "      <td>0.24</td>\n",
              "      <td>2.18</td>\n",
              "      <td>7.80</td>\n",
              "      <td>0.86</td>\n",
              "      <td>3.45</td>\n",
              "      <td>1480</td>\n",
              "    </tr>\n",
              "    <tr>\n",
              "      <th>4</th>\n",
              "      <td>13.24</td>\n",
              "      <td>2.59</td>\n",
              "      <td>2.87</td>\n",
              "      <td>21.0</td>\n",
              "      <td>118</td>\n",
              "      <td>2.80</td>\n",
              "      <td>2.69</td>\n",
              "      <td>0.39</td>\n",
              "      <td>1.82</td>\n",
              "      <td>4.32</td>\n",
              "      <td>1.04</td>\n",
              "      <td>2.93</td>\n",
              "      <td>735</td>\n",
              "    </tr>\n",
              "    <tr>\n",
              "      <th>5</th>\n",
              "      <td>14.20</td>\n",
              "      <td>1.76</td>\n",
              "      <td>2.45</td>\n",
              "      <td>15.2</td>\n",
              "      <td>112</td>\n",
              "      <td>3.27</td>\n",
              "      <td>3.39</td>\n",
              "      <td>0.34</td>\n",
              "      <td>1.97</td>\n",
              "      <td>6.75</td>\n",
              "      <td>1.05</td>\n",
              "      <td>2.85</td>\n",
              "      <td>1450</td>\n",
              "    </tr>\n",
              "    <tr>\n",
              "      <th>6</th>\n",
              "      <td>14.39</td>\n",
              "      <td>1.87</td>\n",
              "      <td>2.45</td>\n",
              "      <td>14.6</td>\n",
              "      <td>96</td>\n",
              "      <td>2.50</td>\n",
              "      <td>2.52</td>\n",
              "      <td>0.30</td>\n",
              "      <td>1.98</td>\n",
              "      <td>5.25</td>\n",
              "      <td>1.02</td>\n",
              "      <td>3.58</td>\n",
              "      <td>1290</td>\n",
              "    </tr>\n",
              "    <tr>\n",
              "      <th>7</th>\n",
              "      <td>14.06</td>\n",
              "      <td>2.15</td>\n",
              "      <td>2.61</td>\n",
              "      <td>17.6</td>\n",
              "      <td>121</td>\n",
              "      <td>2.60</td>\n",
              "      <td>2.51</td>\n",
              "      <td>0.31</td>\n",
              "      <td>1.25</td>\n",
              "      <td>5.05</td>\n",
              "      <td>1.06</td>\n",
              "      <td>3.58</td>\n",
              "      <td>1295</td>\n",
              "    </tr>\n",
              "    <tr>\n",
              "      <th>8</th>\n",
              "      <td>14.83</td>\n",
              "      <td>1.64</td>\n",
              "      <td>2.17</td>\n",
              "      <td>14.0</td>\n",
              "      <td>97</td>\n",
              "      <td>2.80</td>\n",
              "      <td>2.98</td>\n",
              "      <td>0.29</td>\n",
              "      <td>1.98</td>\n",
              "      <td>5.20</td>\n",
              "      <td>1.08</td>\n",
              "      <td>2.85</td>\n",
              "      <td>1045</td>\n",
              "    </tr>\n",
              "    <tr>\n",
              "      <th>9</th>\n",
              "      <td>13.86</td>\n",
              "      <td>1.35</td>\n",
              "      <td>2.27</td>\n",
              "      <td>16.0</td>\n",
              "      <td>98</td>\n",
              "      <td>2.98</td>\n",
              "      <td>3.15</td>\n",
              "      <td>0.22</td>\n",
              "      <td>1.85</td>\n",
              "      <td>7.22</td>\n",
              "      <td>1.01</td>\n",
              "      <td>3.55</td>\n",
              "      <td>1045</td>\n",
              "    </tr>\n",
              "  </tbody>\n",
              "</table>\n",
              "</div>"
            ],
            "text/plain": [
              "       b     c     d     e    f     g     h     i     j     k     l     m     n\n",
              "0  14.23  1.71  2.43  15.6  127  2.80  3.06  0.28  2.29  5.64  1.04  3.92  1065\n",
              "1  13.20  1.78  2.14  11.2  100  2.65  2.76  0.26  1.28  4.38  1.05  3.40  1050\n",
              "2  13.16  2.36  2.67  18.6  101  2.80  3.24  0.30  2.81  5.68  1.03  3.17  1185\n",
              "3  14.37  1.95  2.50  16.8  113  3.85  3.49  0.24  2.18  7.80  0.86  3.45  1480\n",
              "4  13.24  2.59  2.87  21.0  118  2.80  2.69  0.39  1.82  4.32  1.04  2.93   735\n",
              "5  14.20  1.76  2.45  15.2  112  3.27  3.39  0.34  1.97  6.75  1.05  2.85  1450\n",
              "6  14.39  1.87  2.45  14.6   96  2.50  2.52  0.30  1.98  5.25  1.02  3.58  1290\n",
              "7  14.06  2.15  2.61  17.6  121  2.60  2.51  0.31  1.25  5.05  1.06  3.58  1295\n",
              "8  14.83  1.64  2.17  14.0   97  2.80  2.98  0.29  1.98  5.20  1.08  2.85  1045\n",
              "9  13.86  1.35  2.27  16.0   98  2.98  3.15  0.22  1.85  7.22  1.01  3.55  1045"
            ]
          },
          "metadata": {},
          "execution_count": 5
        }
      ]
    },
    {
      "cell_type": "code",
      "metadata": {
        "id": "Y2UxVHAvGrJF"
      },
      "source": [
        "def normalize(df):\n",
        "    result = df.copy()\n",
        "    \n",
        "    for column in df.columns:\n",
        "        max = df[column].max()\n",
        "        min = df[column].min()\n",
        "        result[column] = (df[column] - min) / (max - min)\n",
        "    \n",
        "    return result"
      ],
      "execution_count": 6,
      "outputs": []
    },
    {
      "cell_type": "code",
      "metadata": {
        "colab": {
          "base_uri": "https://localhost:8080/",
          "height": 359
        },
        "id": "JbgHJJzzGrbK",
        "outputId": "5daee657-71aa-47e0-d0ed-5541b393705b"
      },
      "source": [
        "df = normalize(df)\n",
        "df.head(10)"
      ],
      "execution_count": 7,
      "outputs": [
        {
          "output_type": "execute_result",
          "data": {
            "text/html": [
              "<div>\n",
              "<style scoped>\n",
              "    .dataframe tbody tr th:only-of-type {\n",
              "        vertical-align: middle;\n",
              "    }\n",
              "\n",
              "    .dataframe tbody tr th {\n",
              "        vertical-align: top;\n",
              "    }\n",
              "\n",
              "    .dataframe thead th {\n",
              "        text-align: right;\n",
              "    }\n",
              "</style>\n",
              "<table border=\"1\" class=\"dataframe\">\n",
              "  <thead>\n",
              "    <tr style=\"text-align: right;\">\n",
              "      <th></th>\n",
              "      <th>b</th>\n",
              "      <th>c</th>\n",
              "      <th>d</th>\n",
              "      <th>e</th>\n",
              "      <th>f</th>\n",
              "      <th>g</th>\n",
              "      <th>h</th>\n",
              "      <th>i</th>\n",
              "      <th>j</th>\n",
              "      <th>k</th>\n",
              "      <th>l</th>\n",
              "      <th>m</th>\n",
              "      <th>n</th>\n",
              "    </tr>\n",
              "  </thead>\n",
              "  <tbody>\n",
              "    <tr>\n",
              "      <th>0</th>\n",
              "      <td>0.842105</td>\n",
              "      <td>0.191700</td>\n",
              "      <td>0.572193</td>\n",
              "      <td>0.257732</td>\n",
              "      <td>0.619565</td>\n",
              "      <td>0.627586</td>\n",
              "      <td>0.573840</td>\n",
              "      <td>0.283019</td>\n",
              "      <td>0.593060</td>\n",
              "      <td>0.372014</td>\n",
              "      <td>0.455285</td>\n",
              "      <td>0.970696</td>\n",
              "      <td>0.561341</td>\n",
              "    </tr>\n",
              "    <tr>\n",
              "      <th>1</th>\n",
              "      <td>0.571053</td>\n",
              "      <td>0.205534</td>\n",
              "      <td>0.417112</td>\n",
              "      <td>0.030928</td>\n",
              "      <td>0.326087</td>\n",
              "      <td>0.575862</td>\n",
              "      <td>0.510549</td>\n",
              "      <td>0.245283</td>\n",
              "      <td>0.274448</td>\n",
              "      <td>0.264505</td>\n",
              "      <td>0.463415</td>\n",
              "      <td>0.780220</td>\n",
              "      <td>0.550642</td>\n",
              "    </tr>\n",
              "    <tr>\n",
              "      <th>2</th>\n",
              "      <td>0.560526</td>\n",
              "      <td>0.320158</td>\n",
              "      <td>0.700535</td>\n",
              "      <td>0.412371</td>\n",
              "      <td>0.336957</td>\n",
              "      <td>0.627586</td>\n",
              "      <td>0.611814</td>\n",
              "      <td>0.320755</td>\n",
              "      <td>0.757098</td>\n",
              "      <td>0.375427</td>\n",
              "      <td>0.447154</td>\n",
              "      <td>0.695971</td>\n",
              "      <td>0.646933</td>\n",
              "    </tr>\n",
              "    <tr>\n",
              "      <th>3</th>\n",
              "      <td>0.878947</td>\n",
              "      <td>0.239130</td>\n",
              "      <td>0.609626</td>\n",
              "      <td>0.319588</td>\n",
              "      <td>0.467391</td>\n",
              "      <td>0.989655</td>\n",
              "      <td>0.664557</td>\n",
              "      <td>0.207547</td>\n",
              "      <td>0.558360</td>\n",
              "      <td>0.556314</td>\n",
              "      <td>0.308943</td>\n",
              "      <td>0.798535</td>\n",
              "      <td>0.857347</td>\n",
              "    </tr>\n",
              "    <tr>\n",
              "      <th>4</th>\n",
              "      <td>0.581579</td>\n",
              "      <td>0.365613</td>\n",
              "      <td>0.807487</td>\n",
              "      <td>0.536082</td>\n",
              "      <td>0.521739</td>\n",
              "      <td>0.627586</td>\n",
              "      <td>0.495781</td>\n",
              "      <td>0.490566</td>\n",
              "      <td>0.444795</td>\n",
              "      <td>0.259386</td>\n",
              "      <td>0.455285</td>\n",
              "      <td>0.608059</td>\n",
              "      <td>0.325963</td>\n",
              "    </tr>\n",
              "    <tr>\n",
              "      <th>5</th>\n",
              "      <td>0.834211</td>\n",
              "      <td>0.201581</td>\n",
              "      <td>0.582888</td>\n",
              "      <td>0.237113</td>\n",
              "      <td>0.456522</td>\n",
              "      <td>0.789655</td>\n",
              "      <td>0.643460</td>\n",
              "      <td>0.396226</td>\n",
              "      <td>0.492114</td>\n",
              "      <td>0.466724</td>\n",
              "      <td>0.463415</td>\n",
              "      <td>0.578755</td>\n",
              "      <td>0.835949</td>\n",
              "    </tr>\n",
              "    <tr>\n",
              "      <th>6</th>\n",
              "      <td>0.884211</td>\n",
              "      <td>0.223320</td>\n",
              "      <td>0.582888</td>\n",
              "      <td>0.206186</td>\n",
              "      <td>0.282609</td>\n",
              "      <td>0.524138</td>\n",
              "      <td>0.459916</td>\n",
              "      <td>0.320755</td>\n",
              "      <td>0.495268</td>\n",
              "      <td>0.338737</td>\n",
              "      <td>0.439024</td>\n",
              "      <td>0.846154</td>\n",
              "      <td>0.721826</td>\n",
              "    </tr>\n",
              "    <tr>\n",
              "      <th>7</th>\n",
              "      <td>0.797368</td>\n",
              "      <td>0.278656</td>\n",
              "      <td>0.668449</td>\n",
              "      <td>0.360825</td>\n",
              "      <td>0.554348</td>\n",
              "      <td>0.558621</td>\n",
              "      <td>0.457806</td>\n",
              "      <td>0.339623</td>\n",
              "      <td>0.264984</td>\n",
              "      <td>0.321672</td>\n",
              "      <td>0.471545</td>\n",
              "      <td>0.846154</td>\n",
              "      <td>0.725392</td>\n",
              "    </tr>\n",
              "    <tr>\n",
              "      <th>8</th>\n",
              "      <td>1.000000</td>\n",
              "      <td>0.177866</td>\n",
              "      <td>0.433155</td>\n",
              "      <td>0.175258</td>\n",
              "      <td>0.293478</td>\n",
              "      <td>0.627586</td>\n",
              "      <td>0.556962</td>\n",
              "      <td>0.301887</td>\n",
              "      <td>0.495268</td>\n",
              "      <td>0.334471</td>\n",
              "      <td>0.487805</td>\n",
              "      <td>0.578755</td>\n",
              "      <td>0.547076</td>\n",
              "    </tr>\n",
              "    <tr>\n",
              "      <th>9</th>\n",
              "      <td>0.744737</td>\n",
              "      <td>0.120553</td>\n",
              "      <td>0.486631</td>\n",
              "      <td>0.278351</td>\n",
              "      <td>0.304348</td>\n",
              "      <td>0.689655</td>\n",
              "      <td>0.592827</td>\n",
              "      <td>0.169811</td>\n",
              "      <td>0.454259</td>\n",
              "      <td>0.506826</td>\n",
              "      <td>0.430894</td>\n",
              "      <td>0.835165</td>\n",
              "      <td>0.547076</td>\n",
              "    </tr>\n",
              "  </tbody>\n",
              "</table>\n",
              "</div>"
            ],
            "text/plain": [
              "          b         c         d  ...         l         m         n\n",
              "0  0.842105  0.191700  0.572193  ...  0.455285  0.970696  0.561341\n",
              "1  0.571053  0.205534  0.417112  ...  0.463415  0.780220  0.550642\n",
              "2  0.560526  0.320158  0.700535  ...  0.447154  0.695971  0.646933\n",
              "3  0.878947  0.239130  0.609626  ...  0.308943  0.798535  0.857347\n",
              "4  0.581579  0.365613  0.807487  ...  0.455285  0.608059  0.325963\n",
              "5  0.834211  0.201581  0.582888  ...  0.463415  0.578755  0.835949\n",
              "6  0.884211  0.223320  0.582888  ...  0.439024  0.846154  0.721826\n",
              "7  0.797368  0.278656  0.668449  ...  0.471545  0.846154  0.725392\n",
              "8  1.000000  0.177866  0.433155  ...  0.487805  0.578755  0.547076\n",
              "9  0.744737  0.120553  0.486631  ...  0.430894  0.835165  0.547076\n",
              "\n",
              "[10 rows x 13 columns]"
            ]
          },
          "metadata": {},
          "execution_count": 7
        }
      ]
    },
    {
      "cell_type": "markdown",
      "metadata": {
        "id": "7fGiUZmsVeCg"
      },
      "source": [
        "# 2 ) Apesar do K-Means poder ser utilizado para múltiplos atributos, para facilitar a\n",
        "aplicação e melhoria da visualização dos dados, aplique a técnica Principal Component\n",
        "Analysis (PCA) para reduzir os dados de 13 para 2 atributos"
      ]
    },
    {
      "cell_type": "code",
      "metadata": {
        "id": "Lu-4LQQ7WjQM"
      },
      "source": [
        "from sklearn.preprocessing import StandardScaler\n",
        "from sklearn.decomposition import PCA\n"
      ],
      "execution_count": 8,
      "outputs": []
    },
    {
      "cell_type": "code",
      "metadata": {
        "id": "jqgYRcl8Vdp7"
      },
      "source": [
        "pca = PCA(n_components=2)\n"
      ],
      "execution_count": 9,
      "outputs": []
    },
    {
      "cell_type": "code",
      "metadata": {
        "id": "HKWXNHHLWOjW"
      },
      "source": [
        "features = [\"b\", \"c\",\"d\", \"e\",\"f\", \"g\",\"h\", \"i\",\"j\", \"k\",\"l\", \"m\",\"n\"]"
      ],
      "execution_count": 10,
      "outputs": []
    },
    {
      "cell_type": "code",
      "metadata": {
        "id": "E4z1rZuLWS92"
      },
      "source": [
        "x = dfWine.loc[:, features].values\n",
        "\n",
        "y = dfWine.loc[:,['class']].values\n",
        "\n",
        "\n",
        "x = StandardScaler().fit_transform(x)"
      ],
      "execution_count": 11,
      "outputs": []
    },
    {
      "cell_type": "code",
      "metadata": {
        "id": "dgL92p-EVduQ"
      },
      "source": [
        "pComponents = pca.fit_transform(x)\n"
      ],
      "execution_count": 12,
      "outputs": []
    },
    {
      "cell_type": "code",
      "metadata": {
        "colab": {
          "base_uri": "https://localhost:8080/",
          "height": 204
        },
        "id": "GEFAlDN0UJf1",
        "outputId": "32a21330-0e0f-4ee1-acc3-608175a620f9"
      },
      "source": [
        "pDFWine = pd.DataFrame(data = pComponents, columns = ['component_1', 'component_2'])\n",
        "pDFWine.head()"
      ],
      "execution_count": 26,
      "outputs": [
        {
          "output_type": "execute_result",
          "data": {
            "text/html": [
              "<div>\n",
              "<style scoped>\n",
              "    .dataframe tbody tr th:only-of-type {\n",
              "        vertical-align: middle;\n",
              "    }\n",
              "\n",
              "    .dataframe tbody tr th {\n",
              "        vertical-align: top;\n",
              "    }\n",
              "\n",
              "    .dataframe thead th {\n",
              "        text-align: right;\n",
              "    }\n",
              "</style>\n",
              "<table border=\"1\" class=\"dataframe\">\n",
              "  <thead>\n",
              "    <tr style=\"text-align: right;\">\n",
              "      <th></th>\n",
              "      <th>component_1</th>\n",
              "      <th>component_2</th>\n",
              "    </tr>\n",
              "  </thead>\n",
              "  <tbody>\n",
              "    <tr>\n",
              "      <th>0</th>\n",
              "      <td>3.316751</td>\n",
              "      <td>-1.443463</td>\n",
              "    </tr>\n",
              "    <tr>\n",
              "      <th>1</th>\n",
              "      <td>2.209465</td>\n",
              "      <td>0.333393</td>\n",
              "    </tr>\n",
              "    <tr>\n",
              "      <th>2</th>\n",
              "      <td>2.516740</td>\n",
              "      <td>-1.031151</td>\n",
              "    </tr>\n",
              "    <tr>\n",
              "      <th>3</th>\n",
              "      <td>3.757066</td>\n",
              "      <td>-2.756372</td>\n",
              "    </tr>\n",
              "    <tr>\n",
              "      <th>4</th>\n",
              "      <td>1.008908</td>\n",
              "      <td>-0.869831</td>\n",
              "    </tr>\n",
              "  </tbody>\n",
              "</table>\n",
              "</div>"
            ],
            "text/plain": [
              "   component_1  component_2\n",
              "0     3.316751    -1.443463\n",
              "1     2.209465     0.333393\n",
              "2     2.516740    -1.031151\n",
              "3     3.757066    -2.756372\n",
              "4     1.008908    -0.869831"
            ]
          },
          "metadata": {},
          "execution_count": 26
        }
      ]
    },
    {
      "cell_type": "code",
      "metadata": {
        "colab": {
          "base_uri": "https://localhost:8080/",
          "height": 204
        },
        "id": "Ek5HQ0iZWzOY",
        "outputId": "c3c13c4e-0a9f-4799-bf37-bd2a2392eb97"
      },
      "source": [
        "finalDf = pd.concat([dfWine[['class']], pDFWine], axis = 1)\n",
        "finalDf.head()"
      ],
      "execution_count": 27,
      "outputs": [
        {
          "output_type": "execute_result",
          "data": {
            "text/html": [
              "<div>\n",
              "<style scoped>\n",
              "    .dataframe tbody tr th:only-of-type {\n",
              "        vertical-align: middle;\n",
              "    }\n",
              "\n",
              "    .dataframe tbody tr th {\n",
              "        vertical-align: top;\n",
              "    }\n",
              "\n",
              "    .dataframe thead th {\n",
              "        text-align: right;\n",
              "    }\n",
              "</style>\n",
              "<table border=\"1\" class=\"dataframe\">\n",
              "  <thead>\n",
              "    <tr style=\"text-align: right;\">\n",
              "      <th></th>\n",
              "      <th>class</th>\n",
              "      <th>component_1</th>\n",
              "      <th>component_2</th>\n",
              "    </tr>\n",
              "  </thead>\n",
              "  <tbody>\n",
              "    <tr>\n",
              "      <th>0</th>\n",
              "      <td>1</td>\n",
              "      <td>3.316751</td>\n",
              "      <td>-1.443463</td>\n",
              "    </tr>\n",
              "    <tr>\n",
              "      <th>1</th>\n",
              "      <td>1</td>\n",
              "      <td>2.209465</td>\n",
              "      <td>0.333393</td>\n",
              "    </tr>\n",
              "    <tr>\n",
              "      <th>2</th>\n",
              "      <td>1</td>\n",
              "      <td>2.516740</td>\n",
              "      <td>-1.031151</td>\n",
              "    </tr>\n",
              "    <tr>\n",
              "      <th>3</th>\n",
              "      <td>1</td>\n",
              "      <td>3.757066</td>\n",
              "      <td>-2.756372</td>\n",
              "    </tr>\n",
              "    <tr>\n",
              "      <th>4</th>\n",
              "      <td>1</td>\n",
              "      <td>1.008908</td>\n",
              "      <td>-0.869831</td>\n",
              "    </tr>\n",
              "  </tbody>\n",
              "</table>\n",
              "</div>"
            ],
            "text/plain": [
              "   class  component_1  component_2\n",
              "0      1     3.316751    -1.443463\n",
              "1      1     2.209465     0.333393\n",
              "2      1     2.516740    -1.031151\n",
              "3      1     3.757066    -2.756372\n",
              "4      1     1.008908    -0.869831"
            ]
          },
          "metadata": {},
          "execution_count": 27
        }
      ]
    },
    {
      "cell_type": "code",
      "metadata": {
        "id": "odS7aXvbmCpf"
      },
      "source": [
        ""
      ],
      "execution_count": 17,
      "outputs": []
    },
    {
      "cell_type": "markdown",
      "metadata": {
        "id": "IsKvA9gEjpBR"
      },
      "source": [
        "# 3) A medida de similaridade para os objetos será feita, para efeitos comparativos, a\n",
        "partir de duas medidas: a distância Euclidiana e a correlação de Pearson (por favor,\n",
        "pesquise sobre esse assunto). Defina funções específicas para cada caso"
      ]
    },
    {
      "cell_type": "code",
      "metadata": {
        "id": "zECQMt67qU9C"
      },
      "source": [
        "def matrix_silimar(dataframe):\n",
        "    a = []\n",
        "    for index, row in dataframe.iterrows():\n",
        "        # list distance to index X\n",
        "        distance_list = []\n",
        "        for i, r in dataframe.iterrows(): \n",
        "            distance_list.append([index, i, distance.euclidean(row, r)])\n",
        "\n",
        "        a.append(distance_list)\n",
        "\n",
        "    return a"
      ],
      "execution_count": 104,
      "outputs": []
    },
    {
      "cell_type": "markdown",
      "metadata": {
        "id": "r1hyeEufcZRc"
      },
      "source": [
        "A distância euclidiana foi calculada para cada registro do dataframe, e gerado uma matrix de similaridade"
      ]
    },
    {
      "cell_type": "code",
      "metadata": {
        "colab": {
          "base_uri": "https://localhost:8080/"
        },
        "id": "GUBPpVA3rjwN",
        "outputId": "f2552cc5-582d-4ea7-907a-89ec98fc4cbf"
      },
      "source": [
        "matrix_silimar(finalDf)[0]"
      ],
      "execution_count": 103,
      "outputs": [
        {
          "output_type": "execute_result",
          "data": {
            "text/plain": [
              "[[0, 0, 0.0],\n",
              " [0, 1, 2.0936326320166483],\n",
              " [0, 2, 0.9000098358130102],\n",
              " [0, 3, 1.3847772011642845],\n",
              " [0, 4, 2.3780642597410457],\n",
              " [0, 5, 0.7293682556331623],\n",
              " [0, 6, 0.9082887949325232],\n",
              " [0, 7, 1.2681595874893241],\n",
              " [0, 8, 0.9620152656667895],\n",
              " [0, 9, 0.863050253027867],\n",
              " [0, 10, 0.21559661579082695],\n",
              " [0, 11, 1.7695212497731958],\n",
              " [0, 12, 1.4273587059278783],\n",
              " [0, 13, 0.34330743280450976],\n",
              " [0, 14, 1.1907371933568007],\n",
              " [0, 15, 1.035016400158783],\n",
              " [0, 16, 1.446283079678104],\n",
              " [0, 17, 1.4301775595798676],\n",
              " [0, 18, 1.098225712519272],\n",
              " [0, 19, 1.2901780776371907],\n",
              " [0, 20, 0.6841609117138264],\n",
              " [0, 21, 2.533344608377466],\n",
              " [0, 22, 1.7227710579905289],\n",
              " [0, 23, 2.5759225063053472],\n",
              " [0, 24, 2.3491109347361645],\n",
              " [0, 25, 2.380379036780003],\n",
              " [0, 26, 1.7174469234913605],\n",
              " [0, 27, 2.5851184394849933],\n",
              " [0, 28, 1.3570246632017209],\n",
              " [0, 29, 1.6408738037671808],\n",
              " [0, 30, 0.8412971862161589],\n",
              " [0, 31, 0.6399707183987365],\n",
              " [0, 32, 2.1872658732063175],\n",
              " [0, 33, 1.4267140106076386],\n",
              " [0, 34, 2.0469561853166196],\n",
              " [0, 35, 1.897634236562114],\n",
              " [0, 36, 2.0852194823762518],\n",
              " [0, 37, 2.5657746989819015],\n",
              " [0, 38, 2.8617332683202172],\n",
              " [0, 39, 0.8651926951971474],\n",
              " [0, 40, 0.985713255512514],\n",
              " [0, 41, 2.9385599021770274],\n",
              " [0, 42, 0.3783777610706865],\n",
              " [0, 43, 3.063748535445264],\n",
              " [0, 44, 1.9418595555058389],\n",
              " [0, 45, 2.205961961111096],\n",
              " [0, 46, 0.6417517768506669],\n",
              " [0, 47, 0.9385983516431438],\n",
              " [0, 48, 1.321579925906206],\n",
              " [0, 49, 0.6829145941626856],\n",
              " [0, 50, 1.2805261893703992],\n",
              " [0, 51, 0.8348851701490557],\n",
              " [0, 52, 0.2536107400580754],\n",
              " [0, 53, 1.1741996946098765],\n",
              " [0, 54, 1.2451617603930993],\n",
              " [0, 55, 0.8551156062559044],\n",
              " [0, 56, 0.5752744459841183],\n",
              " [0, 57, 1.166170695570399],\n",
              " [0, 58, 0.33833630928143626],\n",
              " [0, 59, 6.2789869295844705],\n",
              " [0, 60, 5.708959637268546],\n",
              " [0, 61, 5.720312499469693],\n",
              " [0, 62, 4.372930904585558],\n",
              " [0, 63, 3.7350709605597263],\n",
              " [0, 64, 5.258285022476523],\n",
              " [0, 65, 3.4222921754051634],\n",
              " [0, 66, 3.635532328135894],\n",
              " [0, 67, 5.079330615412339],\n",
              " [0, 68, 4.563118410480744],\n",
              " [0, 69, 3.3019074043453878],\n",
              " [0, 70, 5.506692142109476],\n",
              " [0, 71, 3.0843717644080666],\n",
              " [0, 72, 4.860488726998838],\n",
              " [0, 73, 1.7232004565820644],\n",
              " [0, 74, 3.265428400355732],\n",
              " [0, 75, 5.798726792792686],\n",
              " [0, 76, 4.756503291803286],\n",
              " [0, 77, 5.637657001572126],\n",
              " [0, 78, 3.181407675734359],\n",
              " [0, 79, 3.968693869720985],\n",
              " [0, 80, 5.544774650268087],\n",
              " [0, 81, 3.8189719319187794],\n",
              " [0, 82, 5.491528196684632],\n",
              " [0, 83, 6.134592272771792],\n",
              " [0, 84, 3.958176875464191],\n",
              " [0, 85, 4.408693893345869],\n",
              " [0, 86, 5.614839311001808],\n",
              " [0, 87, 5.529855332553822],\n",
              " [0, 88, 5.58355010442421],\n",
              " [0, 89, 5.728374551846719],\n",
              " [0, 90, 5.954487333219287],\n",
              " [0, 91, 5.973937361363382],\n",
              " [0, 92, 6.129679862646842],\n",
              " [0, 93, 4.660025182800641],\n",
              " [0, 94, 4.473600173564091],\n",
              " [0, 95, 1.7946890571113796],\n",
              " [0, 96, 4.380614716100081],\n",
              " [0, 97, 4.721945233181494],\n",
              " [0, 98, 3.2259009160257706],\n",
              " [0, 99, 4.2029132569886585],\n",
              " [0, 100, 4.684128609285661],\n",
              " [0, 101, 5.469026882900754],\n",
              " [0, 102, 4.460643596984742],\n",
              " [0, 103, 5.815113080132982],\n",
              " [0, 104, 4.7009823539420825],\n",
              " [0, 105, 6.073780699378938],\n",
              " [0, 106, 5.255193792519622],\n",
              " [0, 107, 5.763055467195045],\n",
              " [0, 108, 5.051769601751413],\n",
              " [0, 109, 3.5304688472551273],\n",
              " [0, 110, 3.575563668454008],\n",
              " [0, 111, 5.0310406144208],\n",
              " [0, 112, 5.216576923375031],\n",
              " [0, 113, 5.387689898575989],\n",
              " [0, 114, 5.192744597212929],\n",
              " [0, 115, 6.106327495203871],\n",
              " [0, 116, 5.65085557632135],\n",
              " [0, 117, 4.90882947703103],\n",
              " [0, 118, 6.430632903080399],\n",
              " [0, 119, 5.421899081519956],\n",
              " [0, 120, 3.9721391158345853],\n",
              " [0, 121, 2.5176374888851862],\n",
              " [0, 122, 5.06318449566628],\n",
              " [0, 123, 4.419536859775544],\n",
              " [0, 124, 3.8489025090580062],\n",
              " [0, 125, 5.027870123727813],\n",
              " [0, 126, 4.3694771799046075],\n",
              " [0, 127, 5.672523267930233],\n",
              " [0, 128, 5.181890454876679],\n",
              " [0, 129, 5.816819961357812],\n",
              " [0, 130, 5.214027391127164],\n",
              " [0, 131, 6.135696770367486],\n",
              " [0, 132, 6.670840135226788],\n",
              " [0, 133, 5.916635927490901],\n",
              " [0, 134, 6.321347192034776],\n",
              " [0, 135, 6.774966250516772],\n",
              " [0, 136, 7.613825233128471],\n",
              " [0, 137, 7.564616325542562],\n",
              " [0, 138, 6.8043705783659965],\n",
              " [0, 139, 6.141329197461135],\n",
              " [0, 140, 6.518723397065823],\n",
              " [0, 141, 6.045167542533442],\n",
              " [0, 142, 6.6806160537556565],\n",
              " [0, 143, 6.109174452335906],\n",
              " [0, 144, 5.884199983619955],\n",
              " [0, 145, 6.331406967877732],\n",
              " [0, 146, 7.8962290881625945],\n",
              " [0, 147, 7.185455549219173],\n",
              " [0, 148, 6.443388200614596],\n",
              " [0, 149, 6.557505175690622],\n",
              " [0, 150, 6.051004979463196],\n",
              " [0, 151, 6.227276242652901],\n",
              " [0, 152, 5.5060624993676885],\n",
              " [0, 153, 6.435241757904959],\n",
              " [0, 154, 6.458947375941199],\n",
              " [0, 155, 7.213712199901645],\n",
              " [0, 156, 6.538630170779956],\n",
              " [0, 157, 7.001910209795941],\n",
              " [0, 158, 5.229175481620689],\n",
              " [0, 159, 5.403676187995139],\n",
              " [0, 160, 6.799082506572515],\n",
              " [0, 161, 5.911940955234772],\n",
              " [0, 162, 6.54122636807105],\n",
              " [0, 163, 6.2876143151569766],\n",
              " [0, 164, 6.578441648813713],\n",
              " [0, 165, 7.154934488826011],\n",
              " [0, 166, 6.170178152214822],\n",
              " [0, 167, 6.56041369768444],\n",
              " [0, 168, 5.884883479858226],\n",
              " [0, 169, 6.146139882160859],\n",
              " [0, 170, 7.035029280446106],\n",
              " [0, 171, 7.299334078513045],\n",
              " [0, 172, 6.164257729173829],\n",
              " [0, 173, 7.022599744181989],\n",
              " [0, 174, 6.255360750614443],\n",
              " [0, 175, 6.455288643171872],\n",
              " [0, 176, 6.1042678725555435],\n",
              " [0, 177, 6.952632845125217]]"
            ]
          },
          "metadata": {},
          "execution_count": 103
        }
      ]
    },
    {
      "cell_type": "markdown",
      "metadata": {
        "id": "mTOpeWfS61St"
      },
      "source": [
        "# 4)  Serão aplicados dois algoritmos de agrupamento: k-médias e DBSCAN. Estes dois\n",
        "algoritmos serão aplicados considerando as duas medidas de similaridade. Para o\n",
        "algoritmo k-médias, justifique o valor de k adotado. Sugestão, pesquise e aplique o\n",
        "método \"cotovelo\" para identificar o valor de k. Para o algoritmo DBSCAN, justifique os\n",
        "valores dos parâmetros: raio de vizinhança e quantidade mínima de pontos. "
      ]
    },
    {
      "cell_type": "markdown",
      "metadata": {
        "id": "Zp1lvBhDZyw-"
      },
      "source": [
        "\n",
        "\n",
        "## K-Means\n",
        "\n"
      ]
    },
    {
      "cell_type": "code",
      "metadata": {
        "id": "XzNUHFgImrmn"
      },
      "source": [
        "k = 3"
      ],
      "execution_count": 53,
      "outputs": []
    },
    {
      "cell_type": "code",
      "metadata": {
        "id": "Vuv9PtmF7Et6"
      },
      "source": [
        "def funcao_custo(dados, rotulo, centroides):\n",
        "  fc = 0\n",
        "  for i in range(len(dados)):\n",
        "    fc += distance.euclidean(dados[i], centroides[int(rotulo[i])])\n",
        "  return fc"
      ],
      "execution_count": 108,
      "outputs": []
    },
    {
      "cell_type": "code",
      "metadata": {
        "id": "dGGllhjd7FOg"
      },
      "source": [
        "def dist(dados, centroides):\n",
        "  D = []\n",
        "  for obj in dados.values:\n",
        "    DAux = []\n",
        "    for c in centroides.values:\n",
        "      DAux.append(distance.euclidean(obj, c))\n",
        "    D.append(DAux)\n",
        "  return D"
      ],
      "execution_count": 107,
      "outputs": []
    },
    {
      "cell_type": "code",
      "metadata": {
        "id": "mzNYHbpA7FRO"
      },
      "source": [
        "def media(dados):\n",
        "    xm = 0\n",
        "    ym = 0\n",
        "    for d in dados.values:\n",
        "        xm += d[0]\n",
        "        ym += d[1]\n",
        "    \n",
        "    xm = xm/len(dados)\n",
        "    ym = ym/len(dados)\n",
        "\n",
        "    return [xm,ym]"
      ],
      "execution_count": 106,
      "outputs": []
    },
    {
      "cell_type": "code",
      "metadata": {
        "colab": {
          "base_uri": "https://localhost:8080/"
        },
        "id": "GarpdxuH7FUf",
        "outputId": "fcc136a5-f9a2-40ba-ff78-ec7634dfceaa"
      },
      "source": [
        "idx = np.random.randint(0, len(finalDf), k)\n",
        "idx"
      ],
      "execution_count": 61,
      "outputs": [
        {
          "output_type": "execute_result",
          "data": {
            "text/plain": [
              "array([156,  49,  61])"
            ]
          },
          "metadata": {},
          "execution_count": 61
        }
      ]
    },
    {
      "cell_type": "code",
      "metadata": {
        "colab": {
          "base_uri": "https://localhost:8080/",
          "height": 142
        },
        "id": "Ee63a6os7Fas",
        "outputId": "9f0bc5c9-9e7c-4d58-f782-95a263013061"
      },
      "source": [
        "C = finalDf.loc[idx]\n",
        "C = C.astype(np.float)\n",
        "\n",
        "\n",
        "G = np.zeros(len(finalDf.values))\n",
        "dif_fc = 1\n",
        "fc = 0\n",
        "it = 0\n",
        "C"
      ],
      "execution_count": 83,
      "outputs": [
        {
          "output_type": "execute_result",
          "data": {
            "text/html": [
              "<div>\n",
              "<style scoped>\n",
              "    .dataframe tbody tr th:only-of-type {\n",
              "        vertical-align: middle;\n",
              "    }\n",
              "\n",
              "    .dataframe tbody tr th {\n",
              "        vertical-align: top;\n",
              "    }\n",
              "\n",
              "    .dataframe thead th {\n",
              "        text-align: right;\n",
              "    }\n",
              "</style>\n",
              "<table border=\"1\" class=\"dataframe\">\n",
              "  <thead>\n",
              "    <tr style=\"text-align: right;\">\n",
              "      <th></th>\n",
              "      <th>class</th>\n",
              "      <th>component_1</th>\n",
              "      <th>component_2</th>\n",
              "    </tr>\n",
              "  </thead>\n",
              "  <tbody>\n",
              "    <tr>\n",
              "      <th>156</th>\n",
              "      <td>3.0</td>\n",
              "      <td>-2.889826</td>\n",
              "      <td>-1.925219</td>\n",
              "    </tr>\n",
              "    <tr>\n",
              "      <th>49</th>\n",
              "      <td>1.0</td>\n",
              "      <td>2.707491</td>\n",
              "      <td>-1.751967</td>\n",
              "    </tr>\n",
              "    <tr>\n",
              "      <th>61</th>\n",
              "      <td>2.0</td>\n",
              "      <td>-1.836250</td>\n",
              "      <td>0.829984</td>\n",
              "    </tr>\n",
              "  </tbody>\n",
              "</table>\n",
              "</div>"
            ],
            "text/plain": [
              "     class  component_1  component_2\n",
              "156    3.0    -2.889826    -1.925219\n",
              "49     1.0     2.707491    -1.751967\n",
              "61     2.0    -1.836250     0.829984"
            ]
          },
          "metadata": {},
          "execution_count": 83
        }
      ]
    },
    {
      "cell_type": "code",
      "metadata": {
        "colab": {
          "base_uri": "https://localhost:8080/",
          "height": 265
        },
        "id": "oKG1fkst7FcN",
        "outputId": "18cc4f61-8c36-44d7-dc95-a6d7eeedd6a6"
      },
      "source": [
        "plt.scatter(finalDf[\"component_1\"], finalDf[\"component_2\"], c=G)\n",
        "plt.scatter(C.values[:,0], C.values[:,1], s = 120, c='red')\n",
        "plt.show()"
      ],
      "execution_count": 84,
      "outputs": [
        {
          "output_type": "display_data",
          "data": {
            "image/png": "[encoded data removed]",
            "text/plain": [
              "<Figure size 432x288 with 1 Axes>"
            ]
          },
          "metadata": {
            "needs_background": "light"
          }
        }
      ]
    },
    {
      "cell_type": "markdown",
      "metadata": {
        "id": "BKjUES8KZ-Lf"
      },
      "source": [
        "## DBSCAN"
      ]
    },
    {
      "cell_type": "markdown",
      "metadata": {
        "id": "Y8RdfV4VaEs3"
      },
      "source": [
        "Quantidade mínima de objetos na vizinhança"
      ]
    },
    {
      "cell_type": "code",
      "metadata": {
        "id": "uAh4IB1u7FfR"
      },
      "source": [
        "minPts = 3"
      ],
      "execution_count": 68,
      "outputs": []
    },
    {
      "cell_type": "markdown",
      "metadata": {
        "id": "MPOtCDs3aISi"
      },
      "source": [
        "Raio da Vizinhança"
      ]
    },
    {
      "cell_type": "code",
      "metadata": {
        "id": "_uVisusn7FhD"
      },
      "source": [
        "raio = 20\n",
        "sizeDF = len(finalDf.values)"
      ],
      "execution_count": 90,
      "outputs": []
    },
    {
      "cell_type": "code",
      "metadata": {
        "id": "S2DxQnEqZwXy"
      },
      "source": [
        "def dist(data):\n",
        "  D = []\n",
        "  for x1 in data:\n",
        "    linhaD = []\n",
        "    for x2 in data:\n",
        "      linhaD.append(distance.euclidean(x1,x2))\n",
        "    D.append(linhaD)\n",
        "  return D"
      ],
      "execution_count": 91,
      "outputs": []
    },
    {
      "cell_type": "code",
      "metadata": {
        "id": "Omm9gp3Naazt"
      },
      "source": [
        "D = dist(finalDf.values)\n",
        "visitado = np.zeros(sizeDF)\n",
        "rotulo = 1\n",
        "G = -1*np.ones(sizeDF)\n"
      ],
      "execution_count": 93,
      "outputs": []
    },
    {
      "cell_type": "code",
      "metadata": {
        "id": "h6L9f1Uhaa2Z"
      },
      "source": [
        "for i in range(sizeDF):\n",
        "  if visitado[i] == 0:\n",
        "    visitado[i] = 1\n",
        "\n",
        "    vizinhos = []\n",
        "    for j in range(sizeDF):\n",
        "      if D[i][j] <= raio:\n",
        "        vizinhos.append(j)\n",
        "    \n",
        "    if len(vizinhos) >= minPts:\n",
        "      G[i] = rotulo\n",
        "      v=0\n",
        "      while v < len(vizinhos):\n",
        "        if (visitado[vizinhos[v]] == 0) or (G[vizinhos[v]] == -1):\n",
        "          aux  = [] \n",
        "          for j2 in range(sizeDF):\n",
        "            if D[vizinhos[v]][j2] <= raio:\n",
        "              vizinhos.append(j2)\n",
        "\n",
        "          visitado[vizinhos[v]] = 1\n",
        "        G[vizinhos[v]] = rotulo\n",
        "        v += 1\n",
        "      rotulo += 1"
      ],
      "execution_count": 96,
      "outputs": []
    },
    {
      "cell_type": "code",
      "metadata": {
        "colab": {
          "base_uri": "https://localhost:8080/"
        },
        "id": "tTlEGpwEaa5E",
        "outputId": "b352dae6-f382-4189-ce2a-46e12e3679ad"
      },
      "source": [
        "G"
      ],
      "execution_count": 97,
      "outputs": [
        {
          "output_type": "execute_result",
          "data": {
            "text/plain": [
              "array([1., 1., 1., 1., 1., 1., 1., 1., 1., 1., 1., 1., 1., 1., 1., 1., 1.,\n",
              "       1., 1., 1., 1., 1., 1., 1., 1., 1., 1., 1., 1., 1., 1., 1., 1., 1.,\n",
              "       1., 1., 1., 1., 1., 1., 1., 1., 1., 1., 1., 1., 1., 1., 1., 1., 1.,\n",
              "       1., 1., 1., 1., 1., 1., 1., 1., 1., 1., 1., 1., 1., 1., 1., 1., 1.,\n",
              "       1., 1., 1., 1., 1., 1., 1., 1., 1., 1., 1., 1., 1., 1., 1., 1., 1.,\n",
              "       1., 1., 1., 1., 1., 1., 1., 1., 1., 1., 1., 1., 1., 1., 1., 1., 1.,\n",
              "       1., 1., 1., 1., 1., 1., 1., 1., 1., 1., 1., 1., 1., 1., 1., 1., 1.,\n",
              "       1., 1., 1., 1., 1., 1., 1., 1., 1., 1., 1., 1., 1., 1., 1., 1., 1.,\n",
              "       1., 1., 1., 1., 1., 1., 1., 1., 1., 1., 1., 1., 1., 1., 1., 1., 1.,\n",
              "       1., 1., 1., 1., 1., 1., 1., 1., 1., 1., 1., 1., 1., 1., 1., 1., 1.,\n",
              "       1., 1., 1., 1., 1., 1., 1., 1.])"
            ]
          },
          "metadata": {},
          "execution_count": 97
        }
      ]
    },
    {
      "cell_type": "code",
      "metadata": {
        "colab": {
          "base_uri": "https://localhost:8080/",
          "height": 265
        },
        "id": "u_R938Soaa72",
        "outputId": "03084201-ece2-4d26-dd75-5f6be2ddd80f"
      },
      "source": [
        "plt.scatter(finalDf[\"component_1\"], finalDf[\"component_2\"], c=G)\n",
        "plt.show()"
      ],
      "execution_count": 98,
      "outputs": [
        {
          "output_type": "display_data",
          "data": {
            "image/png": "[encoded data removed]",
            "text/plain": [
              "<Figure size 432x288 with 1 Axes>"
            ]
          },
          "metadata": {
            "needs_background": "light"
          }
        }
      ]
    },
    {
      "cell_type": "markdown",
      "metadata": {
        "id": "rYW4kChsbFrD"
      },
      "source": [
        "# **5)** Somente para o algoritmo **k-médias**, imprima todos os centróides.\n"
      ]
    },
    {
      "cell_type": "code",
      "metadata": {
        "colab": {
          "base_uri": "https://localhost:8080/",
          "height": 142
        },
        "id": "_ddCwuoQeprS",
        "outputId": "3b8cf251-3557-4e59-df7e-6c9caaec75a9"
      },
      "source": [
        "C"
      ],
      "execution_count": 86,
      "outputs": [
        {
          "output_type": "execute_result",
          "data": {
            "text/html": [
              "<div>\n",
              "<style scoped>\n",
              "    .dataframe tbody tr th:only-of-type {\n",
              "        vertical-align: middle;\n",
              "    }\n",
              "\n",
              "    .dataframe tbody tr th {\n",
              "        vertical-align: top;\n",
              "    }\n",
              "\n",
              "    .dataframe thead th {\n",
              "        text-align: right;\n",
              "    }\n",
              "</style>\n",
              "<table border=\"1\" class=\"dataframe\">\n",
              "  <thead>\n",
              "    <tr style=\"text-align: right;\">\n",
              "      <th></th>\n",
              "      <th>class</th>\n",
              "      <th>component_1</th>\n",
              "      <th>component_2</th>\n",
              "    </tr>\n",
              "  </thead>\n",
              "  <tbody>\n",
              "    <tr>\n",
              "      <th>156</th>\n",
              "      <td>3.0</td>\n",
              "      <td>-2.889826</td>\n",
              "      <td>-1.925219</td>\n",
              "    </tr>\n",
              "    <tr>\n",
              "      <th>49</th>\n",
              "      <td>1.0</td>\n",
              "      <td>2.707491</td>\n",
              "      <td>-1.751967</td>\n",
              "    </tr>\n",
              "    <tr>\n",
              "      <th>61</th>\n",
              "      <td>2.0</td>\n",
              "      <td>-1.836250</td>\n",
              "      <td>0.829984</td>\n",
              "    </tr>\n",
              "  </tbody>\n",
              "</table>\n",
              "</div>"
            ],
            "text/plain": [
              "     class  component_1  component_2\n",
              "156    3.0    -2.889826    -1.925219\n",
              "49     1.0     2.707491    -1.751967\n",
              "61     2.0    -1.836250     0.829984"
            ]
          },
          "metadata": {},
          "execution_count": 86
        }
      ]
    },
    {
      "cell_type": "code",
      "metadata": {
        "colab": {
          "base_uri": "https://localhost:8080/",
          "height": 265
        },
        "id": "aPrd51dXaa-g",
        "outputId": "6e5ebc7b-6268-4c42-d451-28acbdfecea3"
      },
      "source": [
        "plt.scatter(C.values[:,0],C.values[:,1],s = 120,c='red')\n",
        "plt.show()"
      ],
      "execution_count": 85,
      "outputs": [
        {
          "output_type": "display_data",
          "data": {
            "image/png": "[encoded data removed]",
            "text/plain": [
              "<Figure size 432x288 with 1 Axes>"
            ]
          },
          "metadata": {
            "needs_background": "light"
          }
        }
      ]
    },
    {
      "cell_type": "code",
      "metadata": {
        "id": "x42f1EdRabEf"
      },
      "source": [
        ""
      ],
      "execution_count": null,
      "outputs": []
    },
    {
      "cell_type": "markdown",
      "metadata": {
        "id": "XBUrA1pDZ8zb"
      },
      "source": [
        ""
      ]
    }
  ]
}